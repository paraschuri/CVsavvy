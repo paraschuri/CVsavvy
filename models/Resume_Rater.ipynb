{
 "cells": [
  {
   "cell_type": "code",
   "execution_count": 2,
   "id": "84ff5e41",
   "metadata": {},
   "outputs": [],
   "source": [
    "from PyPDF2 import PdfReader\n",
    "from pdfminer.high_level import extract_text\n",
    "import pandas as pd\n",
    "import spacy\n",
    "from spacy.matcher import Matcher\n",
    "nlp = spacy.load('en_core_web_sm')\n",
    "import re"
   ]
  },
  {
   "cell_type": "code",
   "execution_count": 3,
   "id": "d39cd0f9",
   "metadata": {
    "scrolled": false
   },
   "outputs": [
    {
     "name": "stdout",
     "output_type": "stream",
     "text": [
      "Deepak Padhi\n",
      "\n",
      "Learning Web Developer\n",
      "\n",
      "Mumbai, Maharashtra\n",
      "\n",
      "dnoobnerd@gmail.com\n",
      "8123456790\n",
      "\n",
      "Passionate to learn new technologies, skills and Always willing to innovate new things. \n",
      "\n",
      "EDUCATION\n",
      "\n",
      "Bachelor of Science (B.Sc), Computer Science \n",
      "Kirti M Doongursee College Dadar \n",
      "2021 - Present \n",
      "\n",
      "Senior Secondary (XII), Science \n",
      "Vidyanidhi Jr College Of Science \n",
      "Year of completion: 2020 \n",
      "Percentage: 00.00% \n",
      "\n",
      "Secondary (X) \n",
      "St Xavier High School \n",
      "Year of completion: 2018 \n",
      "Percentage: 00.00% \n",
      "\n",
      "INTERNSHIPS\n",
      "\n",
      "Crack Leaked Password Database \n",
      "\n",
      "Forage Goldman Sachs\n",
      "(Engineering Virtual Program), Virtual \n",
      "\n",
      "Dec 2020 - Jan 2021\n",
      "\n",
      "Learnt to Analyze results and propose uplifts to controls and \n",
      "policies.\n",
      "\n",
      "Interface With A Stock Price Data Feed\n",
      "\n",
      "Forage Jp Morgan Chase And Co \n",
      "(Software Engineering Virtual Experience), Virtual \n",
      "\n",
      "Nov 2020 - Dec 2020 \n",
      "\n",
      "Led to Interface with a stock price data feed and set up my \n",
      "system for analysis of the data, Implement the Perspective \n",
      "open source code in preparation for data visualization, Use \n",
      "Perspective to create the chart for the trader’s dashboard. \n",
      "\n",
      "PROJECTS\n",
      "\n",
      "Resume Analyzer\n",
      "\n",
      "A Résumé parsing tool that converts an unstructured \n",
      "form of resume data into a structured format. \n",
      "\n",
      "WhatsApp Chat Analyzer\n",
      "\n",
      "A Tool that analyses user uploaded chat and as a result \n",
      "visualizes data in different format\n",
      "\n",
      "\f",
      "SKILLS\n",
      "\n",
      "Python \n",
      "Intermediate \n",
      "\n",
      "HTML \n",
      "Advanced \n",
      "\n",
      "JavaScript \n",
      "Intermediate \n",
      "\n",
      "CSS \n",
      "Intermediate \n",
      "\n",
      "C# \n",
      "Beginner \n",
      "\n",
      "SQL \n",
      "Intermediate \n",
      "\n",
      "ASP.NET \n",
      "Intermediate \n",
      "\n",
      "Node.js \n",
      "Beginner \n",
      "\n",
      "Online Profiles \n",
      "\n",
      "Portfolio Website\n",
      "https://dnoobnerd.netlify.app/\n",
      "\n",
      "GitHub Profile\n",
      "https://github.com/deepakpadhi986/\n",
      "\n",
      "\f",
      "\n"
     ]
    }
   ],
   "source": [
    "text = extract_text(\"sample.pdf\")\n",
    "print(text)"
   ]
  },
  {
   "cell_type": "code",
   "execution_count": 14,
   "id": "4b484324",
   "metadata": {},
   "outputs": [],
   "source": [
    "def getName(text):\n",
    "    nlp = spacy.load('en_core_web_md')\n",
    "    matcher = Matcher(nlp.vocab)\n",
    "\n",
    "    # Define name patterns\n",
    "    patterns = [\n",
    "        [{'POS': 'PROPN'}, {'POS': 'PROPN'}], # First name and Last name\n",
    "        [{'POS': 'PROPN'}, {'POS': 'PROPN'}, {'POS': 'PROPN'}],\n",
    "    ]\n",
    "    for pattern in patterns:\n",
    "        matcher.add('NAME', patterns=[pattern])\n",
    "\n",
    "    doc = nlp(text) \n",
    "    matches = matcher(doc)\n",
    "\n",
    "    for match_id, start, end in matches:\n",
    "        span = doc[start:end]\n",
    "        return span.text"
   ]
  },
  {
   "cell_type": "code",
   "execution_count": 15,
   "id": "dcbf4533",
   "metadata": {
    "scrolled": true
   },
   "outputs": [
    {
     "name": "stdout",
     "output_type": "stream",
     "text": [
      "Deepak Padhi\n"
     ]
    }
   ],
   "source": [
    "print(getName(text))"
   ]
  },
  {
   "cell_type": "code",
   "execution_count": 16,
   "id": "a2d8d25a",
   "metadata": {},
   "outputs": [],
   "source": [
    "def getEmail(text):\n",
    "    email_pattern = re.compile(r'\\b[A-Za-z0-9._%+-]+@[A-Za-z0-9.-]+\\.[A-Z|a-z]{2,}\\b')\n",
    "    email = re.findall(email_pattern,text)\n",
    "    return email"
   ]
  },
  {
   "cell_type": "code",
   "execution_count": 17,
   "id": "feb33afc",
   "metadata": {
    "scrolled": true
   },
   "outputs": [
    {
     "name": "stdout",
     "output_type": "stream",
     "text": [
      "['dnoobnerd@gmail.com']\n"
     ]
    }
   ],
   "source": [
    "print(getEmail(text))"
   ]
  },
  {
   "cell_type": "code",
   "execution_count": 18,
   "id": "dc8f1220",
   "metadata": {},
   "outputs": [],
   "source": [
    "def getNumber(text):\n",
    "    phone_number_pattern = re.compile(r'\\b(?:\\+\\d{1,2}\\s?)?(?:\\(\\d{3}\\)|\\d{3})[-.\\s]?\\d{3}[-.\\s]?\\d{4}\\b')\n",
    "    phone_numbers = re.findall(phone_number_pattern, text)\n",
    "\n",
    "    return phone_numbers"
   ]
  },
  {
   "cell_type": "code",
   "execution_count": 19,
   "id": "a3fcfb16",
   "metadata": {
    "scrolled": false
   },
   "outputs": [
    {
     "name": "stdout",
     "output_type": "stream",
     "text": [
      "['8123456790']\n"
     ]
    }
   ],
   "source": [
    "print(getNumber(text))"
   ]
  },
  {
   "cell_type": "code",
   "execution_count": 20,
   "id": "77b17f5b",
   "metadata": {},
   "outputs": [],
   "source": [
    "skills_df = pd.read_csv('skills1.csv')\n",
    "skills_list = skills_df.columns\n",
    "def getSkills(text, skills):\n",
    "    skills_pattern = re.compile(r'\\b(?:' + '|'.join(re.escape(skill) for skill in skills) + r')\\b', flags=re.IGNORECASE)\n",
    "\n",
    "    matches = re.findall(skills_pattern, text)\n",
    "\n",
    "    return matches"
   ]
  },
  {
   "cell_type": "code",
   "execution_count": 21,
   "id": "8983b415",
   "metadata": {
    "scrolled": false
   },
   "outputs": [
    {
     "name": "stdout",
     "output_type": "stream",
     "text": [
      "['Computer Science', 'Database', 'Engineering', 'Analyze', 'controls', 'policies', 'Software Engineering', 'system', 'analysis', 'open source', 'Python', 'HTML', 'JavaScript', 'CSS', 'C', 'SQL', 'ASP', '.NET', 'js', 'Website', 'GitHub', 'github']\n"
     ]
    }
   ],
   "source": [
    "print(getSkills(text,skills_list))"
   ]
  },
  {
   "cell_type": "code",
   "execution_count": 22,
   "id": "16180b75",
   "metadata": {},
   "outputs": [],
   "source": [
    "def getExperience(text):\n",
    "    # Define a regex pattern to match variations of experience with years\n",
    "    pattern = r'(?i)experience.*?(\\d+)\\s*(?:year|years)\\b'\n",
    "\n",
    "    # Search for matches in the text\n",
    "    matches = re.findall(pattern, text)\n",
    "\n",
    "    # Convert matched strings to integers\n",
    "    experience_years = [int(match) for match in matches]\n",
    "\n",
    "    return experience_years"
   ]
  },
  {
   "cell_type": "code",
   "execution_count": 23,
   "id": "7101e3ec",
   "metadata": {},
   "outputs": [
    {
     "name": "stdout",
     "output_type": "stream",
     "text": [
      "[]\n"
     ]
    }
   ],
   "source": [
    "demo = \"I have experience of 35 years\"\n",
    "print(getExperience(text))"
   ]
  },
  {
   "cell_type": "code",
   "execution_count": null,
   "id": "61f367e5",
   "metadata": {},
   "outputs": [],
   "source": []
  }
 ],
 "metadata": {
  "kernelspec": {
   "display_name": "Python 3 (ipykernel)",
   "language": "python",
   "name": "python3"
  },
  "language_info": {
   "codemirror_mode": {
    "name": "ipython",
    "version": 3
   },
   "file_extension": ".py",
   "mimetype": "text/x-python",
   "name": "python",
   "nbconvert_exporter": "python",
   "pygments_lexer": "ipython3",
   "version": "3.11.4"
  }
 },
 "nbformat": 4,
 "nbformat_minor": 5
}
